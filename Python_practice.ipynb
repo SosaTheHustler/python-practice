{
  "nbformat": 4,
  "nbformat_minor": 0,
  "metadata": {
    "colab": {
      "name": "Python-practice.ipynb",
      "provenance": [],
      "collapsed_sections": [],
      "include_colab_link": true
    },
    "kernelspec": {
      "name": "python3",
      "display_name": "Python 3"
    },
    "language_info": {
      "name": "python"
    }
  },
  "cells": [
    {
      "cell_type": "markdown",
      "metadata": {
        "id": "view-in-github",
        "colab_type": "text"
      },
      "source": [
        "<a href=\"https://colab.research.google.com/github/SosaTheHustler/python-practice/blob/main/Python_practice.ipynb\" target=\"_parent\"><img src=\"https://colab.research.google.com/assets/colab-badge.svg\" alt=\"Open In Colab\"/></a>"
      ]
    },
    {
      "cell_type": "markdown",
      "source": [
        "Question 1."
      ],
      "metadata": {
        "id": "WqJujK2DrNoc"
      }
    },
    {
      "cell_type": "code",
      "execution_count": null,
      "metadata": {
        "id": "uOo3sp5elGLX"
      },
      "outputs": [],
      "source": [
        "def function22(num):\n",
        "  for x in num:\n",
        "    if((num[x] == 2) and (num[x+1] == 2)):\n",
        "      return True\n",
        "    else:\n",
        "      return False\n"
      ]
    },
    {
      "cell_type": "code",
      "source": [
        "function22([1,2,1])"
      ],
      "metadata": {
        "colab": {
          "base_uri": "https://localhost:8080/"
        },
        "id": "VA-Zz3sLmiou",
        "outputId": "d9f4b0b4-d19d-4004-e512-a03efcd2636f"
      },
      "execution_count": null,
      "outputs": [
        {
          "output_type": "execute_result",
          "data": {
            "text/plain": [
              "False"
            ]
          },
          "metadata": {},
          "execution_count": 26
        }
      ]
    },
    {
      "cell_type": "code",
      "source": [
        "function22([1,2,2])"
      ],
      "metadata": {
        "colab": {
          "base_uri": "https://localhost:8080/"
        },
        "id": "WzWeUBRmq0N4",
        "outputId": "b19b1424-304d-4643-fcbb-37ca8702fb45"
      },
      "execution_count": null,
      "outputs": [
        {
          "output_type": "execute_result",
          "data": {
            "text/plain": [
              "True"
            ]
          },
          "metadata": {},
          "execution_count": 27
        }
      ]
    },
    {
      "cell_type": "markdown",
      "source": [
        "Question 2."
      ],
      "metadata": {
        "id": "36zwXhAMrfkK"
      }
    },
    {
      "cell_type": "code",
      "source": [
        "def sum_no6(nums):\n",
        "  sum = 0\n",
        "  x=0  \n",
        "  while x < len(nums):\n",
        "    if nums[x] == 6:\n",
        "      while nums[x] != 7:\n",
        "        x+=1\n",
        "      x+=1\n",
        "    if x<len(nums) and nums[x]!=6:  \n",
        "      sum+=nums[x]\n",
        "      x+=1\n",
        "  return sum"
      ],
      "metadata": {
        "id": "MTia2qZirg9Y"
      },
      "execution_count": null,
      "outputs": []
    },
    {
      "cell_type": "code",
      "source": [
        "sum_no6([1,2,3,6,4,3,6,7,3,2])"
      ],
      "metadata": {
        "colab": {
          "base_uri": "https://localhost:8080/"
        },
        "id": "WjKnrEFP4btn",
        "outputId": "9f90ee2c-abdd-484e-8571-9439c9232477"
      },
      "execution_count": null,
      "outputs": [
        {
          "output_type": "execute_result",
          "data": {
            "text/plain": [
              "11"
            ]
          },
          "metadata": {},
          "execution_count": 22
        }
      ]
    },
    {
      "cell_type": "markdown",
      "source": [
        "Question 3."
      ],
      "metadata": {
        "id": "uNbRKv_pqopE"
      }
    },
    {
      "cell_type": "code",
      "source": [
        "def even_number(num):\n",
        "  even = 0\n",
        "  for x in num:\n",
        "    if x %2 == 0:\n",
        "      even += 1\n",
        "      \n",
        "  print(even)"
      ],
      "metadata": {
        "id": "g-pOY2IiqvAK"
      },
      "execution_count": null,
      "outputs": []
    },
    {
      "cell_type": "code",
      "source": [
        "even_number([1,2,3,4,5,6])"
      ],
      "metadata": {
        "colab": {
          "base_uri": "https://localhost:8080/"
        },
        "id": "kl_xrZwfsG1y",
        "outputId": "2a4bb971-bba6-4461-85bc-f2eb72f343c0"
      },
      "execution_count": null,
      "outputs": [
        {
          "output_type": "stream",
          "name": "stdout",
          "text": [
            "3\n"
          ]
        }
      ]
    },
    {
      "cell_type": "markdown",
      "source": [
        "Question 4."
      ],
      "metadata": {
        "id": "toCbHpuHstDA"
      }
    },
    {
      "cell_type": "code",
      "source": [
        "def double_string(string):\n",
        "  for x in string:\n",
        "    x += x\n",
        "    print(x, end=\"\")\n"
      ],
      "metadata": {
        "id": "fMPz0JF3swcI"
      },
      "execution_count": null,
      "outputs": []
    },
    {
      "cell_type": "code",
      "source": [
        "double_string('hey-bro')"
      ],
      "metadata": {
        "colab": {
          "base_uri": "https://localhost:8080/"
        },
        "id": "MaqkgcBetTbT",
        "outputId": "57ae86bd-bfc1-40ff-dd0b-e910f6a4a9b7"
      },
      "execution_count": null,
      "outputs": [
        {
          "output_type": "stream",
          "name": "stdout",
          "text": [
            "hheeyy--bbrroo"
          ]
        }
      ]
    },
    {
      "cell_type": "markdown",
      "source": [
        "Question 5."
      ],
      "metadata": {
        "id": "H3b-l82mtwkf"
      }
    },
    {
      "cell_type": "code",
      "source": [
        "def seq123(nums):\n",
        "  for x in range(len(nums)-2):\n",
        "    if nums[x]==1 and nums[x+1]==2 and nums[x+2]==3:\n",
        "      return True\n",
        "  return False"
      ],
      "metadata": {
        "id": "e9-mY247tx6F"
      },
      "execution_count": null,
      "outputs": []
    },
    {
      "cell_type": "code",
      "source": [
        "seq123([1, 1, 2, 1, 2, 3])"
      ],
      "metadata": {
        "colab": {
          "base_uri": "https://localhost:8080/"
        },
        "id": "j07rYMnpuHAv",
        "outputId": "db8694d4-47cd-45be-94ee-9048a66eaf09"
      },
      "execution_count": null,
      "outputs": [
        {
          "output_type": "execute_result",
          "data": {
            "text/plain": [
              "True"
            ]
          },
          "metadata": {},
          "execution_count": 43
        }
      ]
    },
    {
      "cell_type": "markdown",
      "source": [
        "Question 6."
      ],
      "metadata": {
        "id": "OD7XKXfZvyQr"
      }
    },
    {
      "cell_type": "code",
      "source": [
        "def merge_string(string1, string2):\n",
        "  one = 0\n",
        "  two = 0\n",
        "\n",
        "  for x in string1:\n",
        "    one += 1\n",
        "  for x in string2:\n",
        "    two += 1\n",
        "  \n",
        "  if one > two:\n",
        "    print(string2 + string1 + string2)\n",
        "  else:\n",
        "    print(string1 + string2 + string1)"
      ],
      "metadata": {
        "id": "dvwchxBDv0q7"
      },
      "execution_count": null,
      "outputs": []
    },
    {
      "cell_type": "code",
      "source": [
        "merge_string('hey','byee')"
      ],
      "metadata": {
        "colab": {
          "base_uri": "https://localhost:8080/"
        },
        "id": "IAF8jALVwcCu",
        "outputId": "d539434f-e705-4652-9a97-f9d6eaf5bb94"
      },
      "execution_count": null,
      "outputs": [
        {
          "output_type": "stream",
          "name": "stdout",
          "text": [
            "heybyeehey\n"
          ]
        }
      ]
    },
    {
      "cell_type": "markdown",
      "source": [
        "Question 7"
      ],
      "metadata": {
        "id": "I9BeZk4h5QNp"
      }
    },
    {
      "cell_type": "code",
      "source": [
        "def half(str):\n",
        "    if len(str) % 2 != 0:\n",
        "        print(\"odd string must be even\")\n",
        "    else:\n",
        "      halfstring = int(len(str)/2)\n",
        "      print(str[:halfstring])"
      ],
      "metadata": {
        "id": "R8eWN5O6zLj3"
      },
      "execution_count": null,
      "outputs": []
    },
    {
      "cell_type": "code",
      "source": [
        "half('heyede')"
      ],
      "metadata": {
        "colab": {
          "base_uri": "https://localhost:8080/"
        },
        "id": "o-3rwl6-zV8K",
        "outputId": "3c4f7ad1-09b7-478a-b01c-266be7aad3e1"
      },
      "execution_count": null,
      "outputs": [
        {
          "output_type": "stream",
          "name": "stdout",
          "text": [
            "hey\n"
          ]
        }
      ]
    },
    {
      "cell_type": "markdown",
      "source": [
        "Question 8"
      ],
      "metadata": {
        "id": "9jYMnBFQ5ScU"
      }
    },
    {
      "cell_type": "code",
      "source": [
        "def merge_string2(string1, string2):\n",
        "  return string1[1:]+string2[1:]\n"
      ],
      "metadata": {
        "id": "Nr3G3PI62WKk"
      },
      "execution_count": null,
      "outputs": []
    },
    {
      "cell_type": "code",
      "source": [
        "merge_string2('Hello','Byeeee')"
      ],
      "metadata": {
        "colab": {
          "base_uri": "https://localhost:8080/",
          "height": 35
        },
        "id": "SsJle89j2_G9",
        "outputId": "616ad3ef-a6c5-4893-bdc7-d431eea18fae"
      },
      "execution_count": null,
      "outputs": [
        {
          "output_type": "execute_result",
          "data": {
            "application/vnd.google.colaboratory.intrinsic+json": {
              "type": "string"
            },
            "text/plain": [
              "'elloyeeee'"
            ]
          },
          "metadata": {},
          "execution_count": 4
        }
      ]
    }
  ]
}